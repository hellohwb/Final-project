{
 "cells": [
  {
   "cell_type": "code",
   "execution_count": 1,
   "id": "ad46deaf",
   "metadata": {},
   "outputs": [],
   "source": [
    "import pandas as pd\n",
    "import numpy as np\n",
    "import scipy.stats as stats\n",
    "import pylab\n",
    "import statsmodels.api as sm\n",
    "from sklearn.linear_model import LinearRegression"
   ]
  },
  {
   "cell_type": "markdown",
   "id": "f77a2b18",
   "metadata": {},
   "source": [
    "## Introduction"
   ]
  },
  {
   "cell_type": "markdown",
   "id": "1a576790",
   "metadata": {},
   "source": [
    "#### a.\n",
    "What is the effect of number of bedrooms on house price?"
   ]
  },
  {
   "cell_type": "markdown",
   "id": "5f0ac0c5",
   "metadata": {},
   "source": [
    "#### b. \n",
    "Real estate developers or companies that build and sell houses would find it useful in planning the number of bedrooms to build to make more profit."
   ]
  },
  {
   "cell_type": "markdown",
   "id": "9a1e14d4",
   "metadata": {},
   "source": [
    "#### c. \n",
    "Hedonic model is one of the most popular models used in housing market analysis. The Hedonic theory states that a property's physical characteristics and location affect its value (Goodman A., 1977). The hedonic model uses multiple regression analysis to study the effect of a house's size, age, number of rooms, and plot or garden size. Here, I would focus mainly on the causual effect of number of bedrroms on house price.\n",
    "\n",
    "Reference:\n",
    "Goodman, Allen C. \"Hedonic prices, price indices and housing markets.\" Journal of urban economics 5, no. 4 (1978): 471-484."
   ]
  },
  {
   "cell_type": "markdown",
   "id": "b78837b2",
   "metadata": {},
   "source": [
    "## Data"
   ]
  },
  {
   "cell_type": "markdown",
   "id": "60a25d9b",
   "metadata": {},
   "source": [
    "#### a. \n",
    "The source of my data is Beacon and qPublic.net (beacon.schneidercorp.com). This public access portal provides public records from local government on housing market. I have downloaded the data of sale price, lot area, finished living area, and number of bedrooms of houses sold in the Story County, Iowa within the last 12 months and imported them into Excel worksheet."
   ]
  },
  {
   "cell_type": "code",
   "execution_count": 2,
   "id": "1f0aa8d5",
   "metadata": {},
   "outputs": [
    {
     "data": {
      "text/html": [
       "<div>\n",
       "<style scoped>\n",
       "    .dataframe tbody tr th:only-of-type {\n",
       "        vertical-align: middle;\n",
       "    }\n",
       "\n",
       "    .dataframe tbody tr th {\n",
       "        vertical-align: top;\n",
       "    }\n",
       "\n",
       "    .dataframe thead th {\n",
       "        text-align: right;\n",
       "    }\n",
       "</style>\n",
       "<table border=\"1\" class=\"dataframe\">\n",
       "  <thead>\n",
       "    <tr style=\"text-align: right;\">\n",
       "      <th></th>\n",
       "      <th>sale_price</th>\n",
       "      <th>lot_area</th>\n",
       "      <th>finished_living_area</th>\n",
       "      <th>bedrooms</th>\n",
       "    </tr>\n",
       "  </thead>\n",
       "  <tbody>\n",
       "    <tr>\n",
       "      <th>0</th>\n",
       "      <td>2865000</td>\n",
       "      <td>11341</td>\n",
       "      <td>2603</td>\n",
       "      <td>4.0</td>\n",
       "    </tr>\n",
       "    <tr>\n",
       "      <th>1</th>\n",
       "      <td>1700000</td>\n",
       "      <td>31655</td>\n",
       "      <td>0</td>\n",
       "      <td>0.0</td>\n",
       "    </tr>\n",
       "    <tr>\n",
       "      <th>2</th>\n",
       "      <td>1200000</td>\n",
       "      <td>66366</td>\n",
       "      <td>6057</td>\n",
       "      <td>6.0</td>\n",
       "    </tr>\n",
       "    <tr>\n",
       "      <th>3</th>\n",
       "      <td>1068838</td>\n",
       "      <td>55844</td>\n",
       "      <td>5149</td>\n",
       "      <td>6.0</td>\n",
       "    </tr>\n",
       "    <tr>\n",
       "      <th>4</th>\n",
       "      <td>899900</td>\n",
       "      <td>23100</td>\n",
       "      <td>4914</td>\n",
       "      <td>8.0</td>\n",
       "    </tr>\n",
       "    <tr>\n",
       "      <th>...</th>\n",
       "      <td>...</td>\n",
       "      <td>...</td>\n",
       "      <td>...</td>\n",
       "      <td>...</td>\n",
       "    </tr>\n",
       "    <tr>\n",
       "      <th>992</th>\n",
       "      <td>0</td>\n",
       "      <td>16200</td>\n",
       "      <td>2826</td>\n",
       "      <td>5.0</td>\n",
       "    </tr>\n",
       "    <tr>\n",
       "      <th>993</th>\n",
       "      <td>0</td>\n",
       "      <td>11708</td>\n",
       "      <td>3678</td>\n",
       "      <td>4.0</td>\n",
       "    </tr>\n",
       "    <tr>\n",
       "      <th>994</th>\n",
       "      <td>0</td>\n",
       "      <td>10880</td>\n",
       "      <td>1591</td>\n",
       "      <td>3.0</td>\n",
       "    </tr>\n",
       "    <tr>\n",
       "      <th>995</th>\n",
       "      <td>0</td>\n",
       "      <td>10192</td>\n",
       "      <td>1500</td>\n",
       "      <td>3.0</td>\n",
       "    </tr>\n",
       "    <tr>\n",
       "      <th>996</th>\n",
       "      <td>554665</td>\n",
       "      <td>2354</td>\n",
       "      <td>3</td>\n",
       "      <td>NaN</td>\n",
       "    </tr>\n",
       "  </tbody>\n",
       "</table>\n",
       "<p>997 rows × 4 columns</p>\n",
       "</div>"
      ],
      "text/plain": [
       "     sale_price  lot_area  finished_living_area  bedrooms\n",
       "0       2865000     11341                  2603       4.0\n",
       "1       1700000     31655                     0       0.0\n",
       "2       1200000     66366                  6057       6.0\n",
       "3       1068838     55844                  5149       6.0\n",
       "4        899900     23100                  4914       8.0\n",
       "..          ...       ...                   ...       ...\n",
       "992           0     16200                  2826       5.0\n",
       "993           0     11708                  3678       4.0\n",
       "994           0     10880                  1591       3.0\n",
       "995           0     10192                  1500       3.0\n",
       "996      554665      2354                     3       NaN\n",
       "\n",
       "[997 rows x 4 columns]"
      ]
     },
     "execution_count": 2,
     "metadata": {},
     "output_type": "execute_result"
    }
   ],
   "source": [
    "data = pd.read_csv(\"data.csv\")\n",
    "data"
   ]
  },
  {
   "cell_type": "markdown",
   "id": "28a61c9f",
   "metadata": {},
   "source": [
    "#### b. \n",
    "I have removed outliers from my data. Specifically, I have removed houses that have 0s or negative values in their attributes, and the house that has an extremely high sale price. Also, I have removed houses that have missing values."
   ]
  },
  {
   "cell_type": "code",
   "execution_count": 3,
   "id": "693e632f",
   "metadata": {},
   "outputs": [
    {
     "data": {
      "text/html": [
       "<div>\n",
       "<style scoped>\n",
       "    .dataframe tbody tr th:only-of-type {\n",
       "        vertical-align: middle;\n",
       "    }\n",
       "\n",
       "    .dataframe tbody tr th {\n",
       "        vertical-align: top;\n",
       "    }\n",
       "\n",
       "    .dataframe thead th {\n",
       "        text-align: right;\n",
       "    }\n",
       "</style>\n",
       "<table border=\"1\" class=\"dataframe\">\n",
       "  <thead>\n",
       "    <tr style=\"text-align: right;\">\n",
       "      <th></th>\n",
       "      <th>sale_price</th>\n",
       "      <th>lot_area</th>\n",
       "      <th>finished_living_area</th>\n",
       "      <th>bedrooms</th>\n",
       "    </tr>\n",
       "  </thead>\n",
       "  <tbody>\n",
       "    <tr>\n",
       "      <th>2</th>\n",
       "      <td>1200000</td>\n",
       "      <td>66366</td>\n",
       "      <td>6057</td>\n",
       "      <td>6.0</td>\n",
       "    </tr>\n",
       "    <tr>\n",
       "      <th>3</th>\n",
       "      <td>1068838</td>\n",
       "      <td>55844</td>\n",
       "      <td>5149</td>\n",
       "      <td>6.0</td>\n",
       "    </tr>\n",
       "    <tr>\n",
       "      <th>4</th>\n",
       "      <td>899900</td>\n",
       "      <td>23100</td>\n",
       "      <td>4914</td>\n",
       "      <td>8.0</td>\n",
       "    </tr>\n",
       "    <tr>\n",
       "      <th>5</th>\n",
       "      <td>899900</td>\n",
       "      <td>23100</td>\n",
       "      <td>1274</td>\n",
       "      <td>5.0</td>\n",
       "    </tr>\n",
       "    <tr>\n",
       "      <th>7</th>\n",
       "      <td>801000</td>\n",
       "      <td>281833</td>\n",
       "      <td>4012</td>\n",
       "      <td>4.0</td>\n",
       "    </tr>\n",
       "    <tr>\n",
       "      <th>...</th>\n",
       "      <td>...</td>\n",
       "      <td>...</td>\n",
       "      <td>...</td>\n",
       "      <td>...</td>\n",
       "    </tr>\n",
       "    <tr>\n",
       "      <th>713</th>\n",
       "      <td>40000</td>\n",
       "      <td>10152</td>\n",
       "      <td>1178</td>\n",
       "      <td>3.0</td>\n",
       "    </tr>\n",
       "    <tr>\n",
       "      <th>715</th>\n",
       "      <td>25000</td>\n",
       "      <td>7200</td>\n",
       "      <td>913</td>\n",
       "      <td>2.0</td>\n",
       "    </tr>\n",
       "    <tr>\n",
       "      <th>722</th>\n",
       "      <td>2455</td>\n",
       "      <td>9558</td>\n",
       "      <td>1616</td>\n",
       "      <td>3.0</td>\n",
       "    </tr>\n",
       "    <tr>\n",
       "      <th>723</th>\n",
       "      <td>900</td>\n",
       "      <td>10400</td>\n",
       "      <td>2836</td>\n",
       "      <td>5.0</td>\n",
       "    </tr>\n",
       "    <tr>\n",
       "      <th>724</th>\n",
       "      <td>610</td>\n",
       "      <td>8280</td>\n",
       "      <td>1233</td>\n",
       "      <td>3.0</td>\n",
       "    </tr>\n",
       "  </tbody>\n",
       "</table>\n",
       "<p>657 rows × 4 columns</p>\n",
       "</div>"
      ],
      "text/plain": [
       "     sale_price  lot_area  finished_living_area  bedrooms\n",
       "2       1200000     66366                  6057       6.0\n",
       "3       1068838     55844                  5149       6.0\n",
       "4        899900     23100                  4914       8.0\n",
       "5        899900     23100                  1274       5.0\n",
       "7        801000    281833                  4012       4.0\n",
       "..          ...       ...                   ...       ...\n",
       "713       40000     10152                  1178       3.0\n",
       "715       25000      7200                   913       2.0\n",
       "722        2455      9558                  1616       3.0\n",
       "723         900     10400                  2836       5.0\n",
       "724         610      8280                  1233       3.0\n",
       "\n",
       "[657 rows x 4 columns]"
      ]
     },
     "execution_count": 3,
     "metadata": {},
     "output_type": "execute_result"
    }
   ],
   "source": [
    "market = data.drop(data[data[\"sale_price\"] <= 0].index)\n",
    "market = market.drop(market[market[\"sale_price\"] == 2865000].index)           ## remove outlier\n",
    "market = market.drop(market[market[\"lot_area\"] <= 0].index)\n",
    "market = market.drop(market[market[\"finished_living_area\"] <= 0].index)\n",
    "market = market.drop(market[market[\"bedrooms\"] <= 0].index)\n",
    "market = market.dropna()                                                      ## remove missing values\n",
    "market"
   ]
  },
  {
   "cell_type": "markdown",
   "id": "400b62bc",
   "metadata": {},
   "source": [
    "#### c.\n",
    "I did not append any other datasets. The only transformation I did on the data after downloading is removing the dollar sign of house sales price which was done in Excel."
   ]
  },
  {
   "cell_type": "markdown",
   "id": "b5932a42",
   "metadata": {},
   "source": [
    "#### d.\n",
    "Comprehensive summary statistics"
   ]
  },
  {
   "cell_type": "code",
   "execution_count": 4,
   "id": "0708a4c9",
   "metadata": {
    "scrolled": true
   },
   "outputs": [
    {
     "name": "stdout",
     "output_type": "stream",
     "text": [
      "         sale_price       lot_area  finished_living_area    bedrooms\n",
      "count  6.570000e+02     657.000000            657.000000  657.000000\n",
      "mean   2.919442e+05   12023.436834           2009.471842    3.550989\n",
      "std    1.384816e+05   14157.699208            863.753603    0.986604\n",
      "min    6.100000e+02    3500.000000            352.000000    1.000000\n",
      "25%    2.050000e+05    8450.000000           1412.000000    3.000000\n",
      "50%    2.575000e+05   10005.000000           1824.000000    3.000000\n",
      "75%    3.500000e+05   11887.000000           2522.000000    4.000000\n",
      "max    1.200000e+06  281833.000000           6312.000000    8.000000\n"
     ]
    }
   ],
   "source": [
    "print (market.describe())"
   ]
  },
  {
   "cell_type": "code",
   "execution_count": 5,
   "id": "4621c17e",
   "metadata": {},
   "outputs": [
    {
     "data": {
      "image/png": "[encoded data removed]",
      "text/plain": [
       "<Figure size 432x288 with 1 Axes>"
      ]
     },
     "metadata": {
      "needs_background": "light"
     },
     "output_type": "display_data"
    },
    {
     "data": {
      "image/png": "[encoded data removed]",
      "text/plain": [
       "<Figure size 432x288 with 1 Axes>"
      ]
     },
     "metadata": {
      "needs_background": "light"
     },
     "output_type": "display_data"
    }
   ],
   "source": [
    "##check normality of sale price\n",
    "stats.probplot(market[\"sale_price\"], dist=\"norm\", plot=pylab)\n",
    "pylab.show()\n",
    "##check normality of number of bedrooms\n",
    "stats.probplot(market[\"bedrooms\"], dist=\"norm\", plot=pylab)\n",
    "pylab.show()"
   ]
  },
  {
   "cell_type": "markdown",
   "id": "e4b12acf",
   "metadata": {},
   "source": [
    "Since most of the data fall along the straight line at a 45-degree angle in both Q-Q plots, the main variables of this project (sale_price and bedrooms) are normally distributed."
   ]
  },
  {
   "cell_type": "markdown",
   "id": "e15afe4c",
   "metadata": {},
   "source": [
    "## Modeling"
   ]
  },
  {
   "cell_type": "code",
   "execution_count": 6,
   "id": "122e2521",
   "metadata": {
    "scrolled": true
   },
   "outputs": [
    {
     "name": "stdout",
     "output_type": "stream",
     "text": [
      "                            OLS Regression Results                            \n",
      "==============================================================================\n",
      "Dep. Variable:             sale_price   R-squared:                       0.197\n",
      "Model:                            OLS   Adj. R-squared:                  0.195\n",
      "Method:                 Least Squares   F-statistic:                     160.4\n",
      "Date:                Thu, 05 May 2022   Prob (F-statistic):           4.87e-33\n",
      "Time:                        08:38:40   Log-Likelihood:                -8637.7\n",
      "No. Observations:                 657   AIC:                         1.728e+04\n",
      "Df Residuals:                     655   BIC:                         1.729e+04\n",
      "Df Model:                           1                                         \n",
      "Covariance Type:            nonrobust                                         \n",
      "==============================================================================\n",
      "                 coef    std err          t      P>|t|      [0.025      0.975]\n",
      "------------------------------------------------------------------------------\n",
      "const       7.088e+04   1.81e+04      3.913      0.000    3.53e+04    1.06e+05\n",
      "bedrooms    6.226e+04   4915.433     12.665      0.000    5.26e+04    7.19e+04\n",
      "==============================================================================\n",
      "Omnibus:                      208.413   Durbin-Watson:                   0.376\n",
      "Prob(Omnibus):                  0.000   Jarque-Bera (JB):              833.679\n",
      "Skew:                           1.422   Prob(JB):                    9.31e-182\n",
      "Kurtosis:                       7.729   Cond. No.                         14.7\n",
      "==============================================================================\n",
      "\n",
      "Notes:\n",
      "[1] Standard Errors assume that the covariance matrix of the errors is correctly specified.\n"
     ]
    },
    {
     "name": "stderr",
     "output_type": "stream",
     "text": [
      "C:\\Users\\hwb07\\anaconda3\\lib\\site-packages\\statsmodels\\tsa\\tsatools.py:142: FutureWarning: In a future version of pandas all arguments of concat except for the argument 'objs' will be keyword-only\n",
      "  x = pd.concat(x[::order], 1)\n"
     ]
    }
   ],
   "source": [
    "## 1. Only study the relationship between house sales price and number of bedrooms\n",
    "\n",
    "Y = market[\"sale_price\"]\n",
    "X = market[\"bedrooms\"]\n",
    "X = sm.add_constant(X)\n",
    "mod = sm.OLS(Y,X)\n",
    "res_1 = mod.fit()\n",
    "print(res_1.summary())"
   ]
  },
  {
   "cell_type": "code",
   "execution_count": 7,
   "id": "3bd52201",
   "metadata": {},
   "outputs": [
    {
     "name": "stdout",
     "output_type": "stream",
     "text": [
      "                            OLS Regression Results                            \n",
      "==============================================================================\n",
      "Dep. Variable:             sale_price   R-squared:                       0.560\n",
      "Model:                            OLS   Adj. R-squared:                  0.558\n",
      "Method:                 Least Squares   F-statistic:                     277.2\n",
      "Date:                Thu, 05 May 2022   Prob (F-statistic):          5.46e-116\n",
      "Time:                        08:38:40   Log-Likelihood:                -8439.9\n",
      "No. Observations:                 657   AIC:                         1.689e+04\n",
      "Df Residuals:                     653   BIC:                         1.691e+04\n",
      "Df Model:                           3                                         \n",
      "Covariance Type:            nonrobust                                         \n",
      "========================================================================================\n",
      "                           coef    std err          t      P>|t|      [0.025      0.975]\n",
      "----------------------------------------------------------------------------------------\n",
      "const                 5.283e+04   1.35e+04      3.907      0.000    2.63e+04    7.94e+04\n",
      "bedrooms             -1135.8713   4670.506     -0.243      0.808   -1.03e+04    8035.151\n",
      "lot_area                 1.6271      0.263      6.192      0.000       1.111       2.143\n",
      "finished_living_area   111.2651      5.477     20.313      0.000     100.510     122.021\n",
      "==============================================================================\n",
      "Omnibus:                      253.598   Durbin-Watson:                   0.978\n",
      "Prob(Omnibus):                  0.000   Jarque-Bera (JB):             2560.678\n",
      "Skew:                           1.427   Prob(JB):                         0.00\n",
      "Kurtosis:                      12.241   Cond. No.                     7.25e+04\n",
      "==============================================================================\n",
      "\n",
      "Notes:\n",
      "[1] Standard Errors assume that the covariance matrix of the errors is correctly specified.\n",
      "[2] The condition number is large, 7.25e+04. This might indicate that there are\n",
      "strong multicollinearity or other numerical problems.\n"
     ]
    },
    {
     "name": "stderr",
     "output_type": "stream",
     "text": [
      "C:\\Users\\hwb07\\anaconda3\\lib\\site-packages\\statsmodels\\tsa\\tsatools.py:142: FutureWarning: In a future version of pandas all arguments of concat except for the argument 'objs' will be keyword-only\n",
      "  x = pd.concat(x[::order], 1)\n"
     ]
    }
   ],
   "source": [
    "## 2. Study the relationship between house sales price and number of bedrooms while \n",
    "## controlling the area of the house\n",
    "\n",
    "Y = market[\"sale_price\"]\n",
    "X = market[[\"bedrooms\", \"lot_area\", \"finished_living_area\"]]\n",
    "X = sm.add_constant(X)\n",
    "mod = sm.OLS(Y,X)\n",
    "res_2 = mod.fit()\n",
    "print(res_2.summary())"
   ]
  },
  {
   "cell_type": "markdown",
   "id": "a886dcf7",
   "metadata": {},
   "source": [
    "## Findings"
   ]
  },
  {
   "cell_type": "markdown",
   "id": "f4ab0fc5",
   "metadata": {},
   "source": [
    "#### a. \n",
    "In the first model, the coefficient of number of bedrooms is statistically significant as its p-value is smaller than 0.05. However, the value of adjusted R-squared indicates that this model only explains 19.5% of the variance of house sales price."
   ]
  },
  {
   "cell_type": "markdown",
   "id": "b2aac7a9",
   "metadata": {},
   "source": [
    "In the second model, the coefficient of number of bedrooms becomes statistically insignificant as its p-value is greater than 0.05. Since its value of adjusted R-squared has increased and this model explains 55.8% of the variance of house sales price, the second model outperforms the previous one."
   ]
  },
  {
   "cell_type": "markdown",
   "id": "ff1980f4",
   "metadata": {},
   "source": [
    "#### b.\n",
    "Yes, they are robust to different model specifications"
   ]
  },
  {
   "cell_type": "markdown",
   "id": "002b1d8a",
   "metadata": {},
   "source": [
    "## Conclusion"
   ]
  },
  {
   "cell_type": "markdown",
   "id": "a52cdb0a",
   "metadata": {},
   "source": [
    "#### a. \n",
    "Although we would care about how many bedrooms there are in the house if we were going to buy one, the result shows that the number of bedrooms would become unimportant when we take the total area of the house into consideration. So for real estate developers, it is more important to maximize the area of each house than to plan the housing layout or room arrangement."
   ]
  },
  {
   "cell_type": "markdown",
   "id": "87e22fae",
   "metadata": {},
   "source": [
    "#### b.\n",
    "Questions that could be answered in the future are like what should real estate developers care the most when they are going to buy a land or property if they want to maximize profit, or factors that affect house price."
   ]
  }
 ],
 "metadata": {
  "kernelspec": {
   "display_name": "Python 3 (ipykernel)",
   "language": "python",
   "name": "python3"
  },
  "language_info": {
   "codemirror_mode": {
    "name": "ipython",
    "version": 3
   },
   "file_extension": ".py",
   "mimetype": "text/x-python",
   "name": "python",
   "nbconvert_exporter": "python",
   "pygments_lexer": "ipython3",
   "version": "3.9.7"
  }
 },
 "nbformat": 4,
 "nbformat_minor": 5
}
